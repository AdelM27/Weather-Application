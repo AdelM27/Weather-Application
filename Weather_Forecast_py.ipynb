{
  "nbformat": 4,
  "nbformat_minor": 0,
  "metadata": {
    "colab": {
      "provenance": [],
      "authorship_tag": "ABX9TyNJGLLVyCnIL1PeJzowEqmq",
      "include_colab_link": true
    },
    "kernelspec": {
      "name": "python3",
      "display_name": "Python 3"
    },
    "language_info": {
      "name": "python"
    }
  },
  "cells": [
    {
      "cell_type": "markdown",
      "metadata": {
        "id": "view-in-github",
        "colab_type": "text"
      },
      "source": [
        "<a href=\"https://colab.research.google.com/github/AdelM27/Weather-Application/blob/main/Weather_Forecast_py.ipynb\" target=\"_parent\"><img src=\"https://colab.research.google.com/assets/colab-badge.svg\" alt=\"Open In Colab\"/></a>"
      ]
    },
    {
      "cell_type": "code",
      "execution_count": 51,
      "metadata": {
        "colab": {
          "base_uri": "https://localhost:8080/"
        },
        "id": "p5PHDANtoR2h",
        "outputId": "b9d62917-1ace-4fd8-f428-50dc87da30c2"
      },
      "outputs": [
        {
          "output_type": "stream",
          "name": "stdout",
          "text": [
            "Requirement already satisfied: streamlit in /usr/local/lib/python3.11/dist-packages (1.41.1)\n",
            "Requirement already satisfied: requests in /usr/local/lib/python3.11/dist-packages (2.32.3)\n",
            "Requirement already satisfied: pandas in /usr/local/lib/python3.11/dist-packages (2.2.2)\n",
            "Requirement already satisfied: altair<6,>=4.0 in /usr/local/lib/python3.11/dist-packages (from streamlit) (5.5.0)\n",
            "Requirement already satisfied: blinker<2,>=1.0.0 in /usr/local/lib/python3.11/dist-packages (from streamlit) (1.9.0)\n",
            "Requirement already satisfied: cachetools<6,>=4.0 in /usr/local/lib/python3.11/dist-packages (from streamlit) (5.5.0)\n",
            "Requirement already satisfied: click<9,>=7.0 in /usr/local/lib/python3.11/dist-packages (from streamlit) (8.1.8)\n",
            "Requirement already satisfied: numpy<3,>=1.23 in /usr/local/lib/python3.11/dist-packages (from streamlit) (1.26.4)\n",
            "Requirement already satisfied: packaging<25,>=20 in /usr/local/lib/python3.11/dist-packages (from streamlit) (24.2)\n",
            "Requirement already satisfied: pillow<12,>=7.1.0 in /usr/local/lib/python3.11/dist-packages (from streamlit) (11.1.0)\n",
            "Requirement already satisfied: protobuf<6,>=3.20 in /usr/local/lib/python3.11/dist-packages (from streamlit) (4.25.5)\n",
            "Requirement already satisfied: pyarrow>=7.0 in /usr/local/lib/python3.11/dist-packages (from streamlit) (17.0.0)\n",
            "Requirement already satisfied: rich<14,>=10.14.0 in /usr/local/lib/python3.11/dist-packages (from streamlit) (13.9.4)\n",
            "Requirement already satisfied: tenacity<10,>=8.1.0 in /usr/local/lib/python3.11/dist-packages (from streamlit) (9.0.0)\n",
            "Requirement already satisfied: toml<2,>=0.10.1 in /usr/local/lib/python3.11/dist-packages (from streamlit) (0.10.2)\n",
            "Requirement already satisfied: typing-extensions<5,>=4.3.0 in /usr/local/lib/python3.11/dist-packages (from streamlit) (4.12.2)\n",
            "Requirement already satisfied: watchdog<7,>=2.1.5 in /usr/local/lib/python3.11/dist-packages (from streamlit) (6.0.0)\n",
            "Requirement already satisfied: gitpython!=3.1.19,<4,>=3.0.7 in /usr/local/lib/python3.11/dist-packages (from streamlit) (3.1.44)\n",
            "Requirement already satisfied: pydeck<1,>=0.8.0b4 in /usr/local/lib/python3.11/dist-packages (from streamlit) (0.9.1)\n",
            "Requirement already satisfied: tornado<7,>=6.0.3 in /usr/local/lib/python3.11/dist-packages (from streamlit) (6.3.3)\n",
            "Requirement already satisfied: charset-normalizer<4,>=2 in /usr/local/lib/python3.11/dist-packages (from requests) (3.4.1)\n",
            "Requirement already satisfied: idna<4,>=2.5 in /usr/local/lib/python3.11/dist-packages (from requests) (3.10)\n",
            "Requirement already satisfied: urllib3<3,>=1.21.1 in /usr/local/lib/python3.11/dist-packages (from requests) (2.3.0)\n",
            "Requirement already satisfied: certifi>=2017.4.17 in /usr/local/lib/python3.11/dist-packages (from requests) (2024.12.14)\n",
            "Requirement already satisfied: python-dateutil>=2.8.2 in /usr/local/lib/python3.11/dist-packages (from pandas) (2.8.2)\n",
            "Requirement already satisfied: pytz>=2020.1 in /usr/local/lib/python3.11/dist-packages (from pandas) (2024.2)\n",
            "Requirement already satisfied: tzdata>=2022.7 in /usr/local/lib/python3.11/dist-packages (from pandas) (2024.2)\n",
            "Requirement already satisfied: jinja2 in /usr/local/lib/python3.11/dist-packages (from altair<6,>=4.0->streamlit) (3.1.5)\n",
            "Requirement already satisfied: jsonschema>=3.0 in /usr/local/lib/python3.11/dist-packages (from altair<6,>=4.0->streamlit) (4.23.0)\n",
            "Requirement already satisfied: narwhals>=1.14.2 in /usr/local/lib/python3.11/dist-packages (from altair<6,>=4.0->streamlit) (1.21.1)\n",
            "Requirement already satisfied: gitdb<5,>=4.0.1 in /usr/local/lib/python3.11/dist-packages (from gitpython!=3.1.19,<4,>=3.0.7->streamlit) (4.0.12)\n",
            "Requirement already satisfied: six>=1.5 in /usr/local/lib/python3.11/dist-packages (from python-dateutil>=2.8.2->pandas) (1.17.0)\n",
            "Requirement already satisfied: markdown-it-py>=2.2.0 in /usr/local/lib/python3.11/dist-packages (from rich<14,>=10.14.0->streamlit) (3.0.0)\n",
            "Requirement already satisfied: pygments<3.0.0,>=2.13.0 in /usr/local/lib/python3.11/dist-packages (from rich<14,>=10.14.0->streamlit) (2.18.0)\n",
            "Requirement already satisfied: smmap<6,>=3.0.1 in /usr/local/lib/python3.11/dist-packages (from gitdb<5,>=4.0.1->gitpython!=3.1.19,<4,>=3.0.7->streamlit) (5.0.2)\n",
            "Requirement already satisfied: MarkupSafe>=2.0 in /usr/local/lib/python3.11/dist-packages (from jinja2->altair<6,>=4.0->streamlit) (3.0.2)\n",
            "Requirement already satisfied: attrs>=22.2.0 in /usr/local/lib/python3.11/dist-packages (from jsonschema>=3.0->altair<6,>=4.0->streamlit) (24.3.0)\n",
            "Requirement already satisfied: jsonschema-specifications>=2023.03.6 in /usr/local/lib/python3.11/dist-packages (from jsonschema>=3.0->altair<6,>=4.0->streamlit) (2024.10.1)\n",
            "Requirement already satisfied: referencing>=0.28.4 in /usr/local/lib/python3.11/dist-packages (from jsonschema>=3.0->altair<6,>=4.0->streamlit) (0.35.1)\n",
            "Requirement already satisfied: rpds-py>=0.7.1 in /usr/local/lib/python3.11/dist-packages (from jsonschema>=3.0->altair<6,>=4.0->streamlit) (0.22.3)\n",
            "Requirement already satisfied: mdurl~=0.1 in /usr/local/lib/python3.11/dist-packages (from markdown-it-py>=2.2.0->rich<14,>=10.14.0->streamlit) (0.1.2)\n"
          ]
        }
      ],
      "source": [
        "pip install streamlit requests pandas"
      ]
    },
    {
      "cell_type": "code",
      "source": [
        "import requests\n",
        "import streamlit as st\n",
        "\n",
        "\n",
        "def get_coordinates(city_name):\n",
        "    url = f\"https://nominatim.openstreetmap.org/search?q={city_name}&format=json\"\n",
        "    response = requests.get(url)\n",
        "    data = response.json()\n",
        "    if response.status_code == 200:\n",
        "        location_data = response.json()\n",
        "        if location_data:\n",
        "            location = location_data[0]\n",
        "            return float (location[\"lat\"]), float(location[\"lon\"])\n",
        "        else:\n",
        "            st.warning(f\"City not found. Try adding the Country name (e.g., 'United States, Texas). \")\n",
        "    else:\n",
        "      st.error(f\"API Request failed with status code {response.status_code}: {response.text}\")\n",
        "      return None, None\n"
      ],
      "metadata": {
        "id": "W11EScv49gTg"
      },
      "execution_count": 52,
      "outputs": []
    },
    {
      "cell_type": "code",
      "source": [
        "def get_weather_data(lat, lon, hours):\n",
        "    url = f\"https://api.open-meteo.com/v1/forecast?latitude={lat}&longitude={lon}&hourly=temperature_2m,relativehumidity_2m,windspeed_10m&forecast_days={hours}\"\n",
        "    response = requests.get(url)\n",
        "    data = response.json()\n",
        "    if response.status_code == 200:\n",
        "        return data\n",
        "    else:\n",
        "        st.error(\"Failed to retrieve weather data. Please try again\")\n",
        "        return None\n",
        ""
      ],
      "metadata": {
        "id": "BxGHDJrL_TT4"
      },
      "execution_count": 53,
      "outputs": []
    },
    {
      "cell_type": "code",
      "source": [
        "st.title(\"Real-Time Weather Dashboard\")\n",
        "st.write(\"Get live weather updates and forecasts.\")\n",
        "\n",
        "city_name = st.text_input(\"Enter city name:\")\n",
        "if st.button(\"Get Weather\"):\n",
        "    if city_name:\n",
        "        weather_data = get_weather_data(city_name)\n",
        "forecast_duration = st.slider(\"Select forecast duration (hours):\", 1, 48, 12)\n",
        "if st.button(\"Get Forecast\"):\n",
        "    forecast_data = get_forecast_data(city_name, forecast_duration)\n",
        "parameter_options = st.multiselect (\n",
        "    \"Choose weather parameter to display\",\n",
        "    options = [\"Temprature (°F)\", \"Humidity (%)\", \"Wind Speed (mph)\"],\n",
        "    default=[\"Temprature (°F)\", \"Humidity (%)\"]\n",
        ")"
      ],
      "metadata": {
        "colab": {
          "base_uri": "https://localhost:8080/"
        },
        "id": "y-ncLJQx_4q9",
        "outputId": "e7e1466a-a10f-489d-f4f3-29ac0c24cba9"
      },
      "execution_count": 54,
      "outputs": [
        {
          "output_type": "stream",
          "name": "stderr",
          "text": [
            "2025-01-23 18:17:11.096 Thread 'MainThread': missing ScriptRunContext! This warning can be ignored when running in bare mode.\n",
            "2025-01-23 18:17:11.099 Thread 'MainThread': missing ScriptRunContext! This warning can be ignored when running in bare mode.\n",
            "2025-01-23 18:17:11.102 Thread 'MainThread': missing ScriptRunContext! This warning can be ignored when running in bare mode.\n",
            "2025-01-23 18:17:11.104 Thread 'MainThread': missing ScriptRunContext! This warning can be ignored when running in bare mode.\n",
            "2025-01-23 18:17:11.107 Thread 'MainThread': missing ScriptRunContext! This warning can be ignored when running in bare mode.\n",
            "2025-01-23 18:17:11.108 Thread 'MainThread': missing ScriptRunContext! This warning can be ignored when running in bare mode.\n",
            "2025-01-23 18:17:11.111 Thread 'MainThread': missing ScriptRunContext! This warning can be ignored when running in bare mode.\n",
            "2025-01-23 18:17:11.112 Thread 'MainThread': missing ScriptRunContext! This warning can be ignored when running in bare mode.\n",
            "2025-01-23 18:17:11.115 Thread 'MainThread': missing ScriptRunContext! This warning can be ignored when running in bare mode.\n",
            "2025-01-23 18:17:11.116 Thread 'MainThread': missing ScriptRunContext! This warning can be ignored when running in bare mode.\n",
            "2025-01-23 18:17:11.117 Thread 'MainThread': missing ScriptRunContext! This warning can be ignored when running in bare mode.\n",
            "2025-01-23 18:17:11.121 Thread 'MainThread': missing ScriptRunContext! This warning can be ignored when running in bare mode.\n",
            "2025-01-23 18:17:11.122 Thread 'MainThread': missing ScriptRunContext! This warning can be ignored when running in bare mode.\n",
            "2025-01-23 18:17:11.123 Thread 'MainThread': missing ScriptRunContext! This warning can be ignored when running in bare mode.\n",
            "2025-01-23 18:17:11.124 Thread 'MainThread': missing ScriptRunContext! This warning can be ignored when running in bare mode.\n",
            "2025-01-23 18:17:11.125 Thread 'MainThread': missing ScriptRunContext! This warning can be ignored when running in bare mode.\n",
            "2025-01-23 18:17:11.126 Thread 'MainThread': missing ScriptRunContext! This warning can be ignored when running in bare mode.\n",
            "2025-01-23 18:17:11.128 Thread 'MainThread': missing ScriptRunContext! This warning can be ignored when running in bare mode.\n",
            "2025-01-23 18:17:11.129 Thread 'MainThread': missing ScriptRunContext! This warning can be ignored when running in bare mode.\n",
            "2025-01-23 18:17:11.130 Thread 'MainThread': missing ScriptRunContext! This warning can be ignored when running in bare mode.\n",
            "2025-01-23 18:17:11.131 Thread 'MainThread': missing ScriptRunContext! This warning can be ignored when running in bare mode.\n",
            "2025-01-23 18:17:11.132 Thread 'MainThread': missing ScriptRunContext! This warning can be ignored when running in bare mode.\n",
            "2025-01-23 18:17:11.133 Thread 'MainThread': missing ScriptRunContext! This warning can be ignored when running in bare mode.\n",
            "2025-01-23 18:17:11.134 Thread 'MainThread': missing ScriptRunContext! This warning can be ignored when running in bare mode.\n",
            "2025-01-23 18:17:11.136 Thread 'MainThread': missing ScriptRunContext! This warning can be ignored when running in bare mode.\n",
            "2025-01-23 18:17:11.137 Thread 'MainThread': missing ScriptRunContext! This warning can be ignored when running in bare mode.\n",
            "2025-01-23 18:17:11.138 Thread 'MainThread': missing ScriptRunContext! This warning can be ignored when running in bare mode.\n",
            "2025-01-23 18:17:11.140 Thread 'MainThread': missing ScriptRunContext! This warning can be ignored when running in bare mode.\n",
            "2025-01-23 18:17:11.145 Thread 'MainThread': missing ScriptRunContext! This warning can be ignored when running in bare mode.\n",
            "2025-01-23 18:17:11.147 Thread 'MainThread': missing ScriptRunContext! This warning can be ignored when running in bare mode.\n",
            "2025-01-23 18:17:11.149 Thread 'MainThread': missing ScriptRunContext! This warning can be ignored when running in bare mode.\n",
            "2025-01-23 18:17:11.151 Thread 'MainThread': missing ScriptRunContext! This warning can be ignored when running in bare mode.\n"
          ]
        }
      ]
    },
    {
      "cell_type": "code",
      "source": [
        "import requests\n",
        "import streamlit as st\n",
        "import pandas as pd\n",
        "from datetime import datetime, timedelta\n",
        "import pandas as pd\n",
        "import matplotlib.pyplot as plt\n",
        "import seaborn as sns\n",
        "import plotly.express as px\n",
        "\n",
        "st. title(\"Real-Time Weather Dashboard\")\n",
        "st.write(\"Get live weather updates and forecasts.\")\n",
        "\n",
        "city_name = st.text_input(\"Enter City Name\", value= \"Los Angeles\")\n",
        "forcast_duration = st.slider(\"Select forecast duration (hours):\", 1, 48, 12)\n",
        "parameter_options = st.multiselect(\n",
        "    \"Choose weather parameter to display\",\n",
        "    options=[\"Temperature (°F)\", \"Humidity (%)\", \"Wind Speed (mph)\"],\n",
        "    default=[\"Temperature (°F)\", \"Humidity (%)\"]\n",
        ")\n",
        "\n",
        "\n",
        "Weather_data = None\n",
        "\n",
        "if st.button (\"Get Weather Data\"):\n",
        "  lat, lon = get_coordinates(City_name)\n",
        "  if lat and lon:\n",
        "    data = weather_data = get_weather_data(lat, lon, forecast_duration)\n",
        "    if data:\n",
        "      times = [datetime.now() + timedelta(hours=i) for i in range(forecast_duration)]\n",
        "      df = pd.DataFrame({\"Time\": times})\n",
        "\n",
        "      if \"Temprature (°F)\" in parameter_options:\n",
        "        df[\"Temperature (°F)\"] = weather_data[\"hourly\"][\"temperature_2m\"] [:forecast_duration]\n",
        "        st.subheader(f\"Temprature Forecast\")\n",
        "        st.line_chart(df.set_index(\"Time\") [\"Temprature(°F)\"])\n",
        "\n",
        "      if \"Humidity (%)\" in parameter_options:\n",
        "        df[\"Humidity (%)\"] = weather_data[\"hourly\"][\"relativehumidity_2m\"] [:forecast_duration]\n",
        "        st.subheader(f\"Humidity Forecast\")\n",
        "        st.line_chart(df.set_index(\"Time\") [\"Humidity (%)\"])\n",
        "        if \"temperature_2m\" in weather_data[\"hourly\"]:\n",
        "          df[\"Temperature\"] = weather_data[\"hourly\"][\"temperature_2m\"] [:forecast_duration]\n",
        "\n",
        "      if \"Wind Speed\" \"(m/s)\" in parameter_options:\n",
        "        df[\"Wind Speed (m/s)\"] = data[\"hourly\"][\"windspeed_10m\"] [:forecast_duration]\n",
        "        st.subheader(f\"Wind Speed Forecast\")\n",
        "        st.line_chart(df.set_index(\"Time\") [\"Wind Speed (m/s)\"])\n",
        "    if city_name:\n",
        "        lat, lon = get_coordinates(city_name)\n",
        "        if lat is not None and lon is not None:\n",
        "            weather_data = get_weather_data(lat, lon, forecast_duration)\n",
        "            if data:\n",
        "               times = [datetime.now() + timedelta(hours=i) for i in range(forecast_duration)]\n",
        "               df= pd.DataFrame({\"Time\": times})\n",
        "\n",
        "    st.subheader(\"Current Weather Summary\")\n",
        "    st.subheader(f\"Weather Forecast for {city_name}\")\n",
        "    if \"hourly\" in weather_data:\n",
        "      col1, col2, col3 = st.columns(3)\n",
        "      with col1:\n",
        "          st.subheader(\"Temperature\")\n",
        "          st.subheader(f\"{weather_data['current_weather']['temperature']}°F\")\n",
        "          with col2:\n",
        "              st.subheader(\"Humidity\")\n",
        "              st.subheader(f\"{weather_data['current_weather']['windspeed_10m']}mph\")\n",
        "              with col3:\n",
        "                  st.subheader(\"Wind Speed\")\n",
        "                  st.subheader(f\"{weather_data['current_weather']['winddirection_10m']}°\")\n",
        "                  if \"hourly\" in weather_data:\n",
        "                      times = [datetime.now() + timedelta(hours=i) for i in range(forecast_duration)]\n",
        "                      df = pd.DataFrame({\"Time\": times})\n",
        "                      if \"temperature_2m\" in weather_data[\"hourly\"]:\n",
        "                          df[\"Temperature\"] = weather_data[\"hourly\"][\"temperature_2m\"] [:forecast_duration]\n",
        "                          st.subheader(f\"Temperature for the next {forecast_duration} hours in {city_name}:\")\n",
        "                          st.write(df)\n",
        "else:\n",
        "               st.write (\"No weather data available\")\n",
        "\n",
        "\n",
        "\n",
        "\n",
        "\n"
      ],
      "metadata": {
        "colab": {
          "base_uri": "https://localhost:8080/"
        },
        "id": "elYYje3FBqWK",
        "outputId": "32f9f342-aa04-48ce-9c05-f3714eed7052"
      },
      "execution_count": 55,
      "outputs": [
        {
          "output_type": "stream",
          "name": "stderr",
          "text": [
            "2025-01-23 18:17:11.185 Thread 'MainThread': missing ScriptRunContext! This warning can be ignored when running in bare mode.\n",
            "2025-01-23 18:17:11.187 Thread 'MainThread': missing ScriptRunContext! This warning can be ignored when running in bare mode.\n",
            "2025-01-23 18:17:11.189 Thread 'MainThread': missing ScriptRunContext! This warning can be ignored when running in bare mode.\n",
            "2025-01-23 18:17:11.190 Thread 'MainThread': missing ScriptRunContext! This warning can be ignored when running in bare mode.\n",
            "2025-01-23 18:17:11.192 Thread 'MainThread': missing ScriptRunContext! This warning can be ignored when running in bare mode.\n",
            "2025-01-23 18:17:11.194 Thread 'MainThread': missing ScriptRunContext! This warning can be ignored when running in bare mode.\n",
            "2025-01-23 18:17:11.195 Thread 'MainThread': missing ScriptRunContext! This warning can be ignored when running in bare mode.\n",
            "2025-01-23 18:17:11.196 Thread 'MainThread': missing ScriptRunContext! This warning can be ignored when running in bare mode.\n",
            "2025-01-23 18:17:11.198 Thread 'MainThread': missing ScriptRunContext! This warning can be ignored when running in bare mode.\n",
            "2025-01-23 18:17:11.199 Thread 'MainThread': missing ScriptRunContext! This warning can be ignored when running in bare mode.\n",
            "2025-01-23 18:17:11.200 Thread 'MainThread': missing ScriptRunContext! This warning can be ignored when running in bare mode.\n",
            "2025-01-23 18:17:11.203 Thread 'MainThread': missing ScriptRunContext! This warning can be ignored when running in bare mode.\n",
            "2025-01-23 18:17:11.205 Thread 'MainThread': missing ScriptRunContext! This warning can be ignored when running in bare mode.\n",
            "2025-01-23 18:17:11.206 Thread 'MainThread': missing ScriptRunContext! This warning can be ignored when running in bare mode.\n",
            "2025-01-23 18:17:11.207 Thread 'MainThread': missing ScriptRunContext! This warning can be ignored when running in bare mode.\n",
            "2025-01-23 18:17:11.208 Thread 'MainThread': missing ScriptRunContext! This warning can be ignored when running in bare mode.\n",
            "2025-01-23 18:17:11.210 Thread 'MainThread': missing ScriptRunContext! This warning can be ignored when running in bare mode.\n",
            "2025-01-23 18:17:11.211 Thread 'MainThread': missing ScriptRunContext! This warning can be ignored when running in bare mode.\n",
            "2025-01-23 18:17:11.212 Thread 'MainThread': missing ScriptRunContext! This warning can be ignored when running in bare mode.\n",
            "2025-01-23 18:17:11.213 Thread 'MainThread': missing ScriptRunContext! This warning can be ignored when running in bare mode.\n",
            "2025-01-23 18:17:11.215 Thread 'MainThread': missing ScriptRunContext! This warning can be ignored when running in bare mode.\n",
            "2025-01-23 18:17:11.216 Thread 'MainThread': missing ScriptRunContext! This warning can be ignored when running in bare mode.\n",
            "2025-01-23 18:17:11.218 Thread 'MainThread': missing ScriptRunContext! This warning can be ignored when running in bare mode.\n",
            "2025-01-23 18:17:11.219 Thread 'MainThread': missing ScriptRunContext! This warning can be ignored when running in bare mode.\n",
            "2025-01-23 18:17:11.220 Thread 'MainThread': missing ScriptRunContext! This warning can be ignored when running in bare mode.\n",
            "2025-01-23 18:17:11.222 Thread 'MainThread': missing ScriptRunContext! This warning can be ignored when running in bare mode.\n",
            "2025-01-23 18:17:11.223 Thread 'MainThread': missing ScriptRunContext! This warning can be ignored when running in bare mode.\n",
            "2025-01-23 18:17:11.224 Thread 'MainThread': missing ScriptRunContext! This warning can be ignored when running in bare mode.\n",
            "2025-01-23 18:17:11.225 Thread 'MainThread': missing ScriptRunContext! This warning can be ignored when running in bare mode.\n",
            "2025-01-23 18:17:11.226 Thread 'MainThread': missing ScriptRunContext! This warning can be ignored when running in bare mode.\n",
            "2025-01-23 18:17:11.227 Thread 'MainThread': missing ScriptRunContext! This warning can be ignored when running in bare mode.\n"
          ]
        }
      ]
    },
    {
      "cell_type": "code",
      "source": [
        "st.subheader(\"Current Weather Summary\")\n",
        "col1, col2, col3 = st.columns(3)\n",
        "col1.metric(\"Temperature\", \"70 F\", \"1.2 F\")\n",
        "col2.metric(\"Wind\", \"9 mph\", \"-8%\")\n",
        "col3.metric(\"Humidity\", \"86%\", \"4%\")\n",
        "\n",
        "\n"
      ],
      "metadata": {
        "colab": {
          "base_uri": "https://localhost:8080/"
        },
        "id": "NGCbVBECDfki",
        "outputId": "f41b54aa-c9a1-4d3d-ea62-91393bdfded7"
      },
      "execution_count": 56,
      "outputs": [
        {
          "output_type": "stream",
          "name": "stderr",
          "text": [
            "2025-01-23 18:17:11.234 Thread 'MainThread': missing ScriptRunContext! This warning can be ignored when running in bare mode.\n",
            "2025-01-23 18:17:11.236 Thread 'MainThread': missing ScriptRunContext! This warning can be ignored when running in bare mode.\n",
            "2025-01-23 18:17:11.238 Thread 'MainThread': missing ScriptRunContext! This warning can be ignored when running in bare mode.\n",
            "2025-01-23 18:17:11.239 Thread 'MainThread': missing ScriptRunContext! This warning can be ignored when running in bare mode.\n",
            "2025-01-23 18:17:11.240 Thread 'MainThread': missing ScriptRunContext! This warning can be ignored when running in bare mode.\n",
            "2025-01-23 18:17:11.241 Thread 'MainThread': missing ScriptRunContext! This warning can be ignored when running in bare mode.\n",
            "2025-01-23 18:17:11.243 Thread 'MainThread': missing ScriptRunContext! This warning can be ignored when running in bare mode.\n",
            "2025-01-23 18:17:11.244 Thread 'MainThread': missing ScriptRunContext! This warning can be ignored when running in bare mode.\n",
            "2025-01-23 18:17:11.245 Thread 'MainThread': missing ScriptRunContext! This warning can be ignored when running in bare mode.\n",
            "2025-01-23 18:17:11.246 Thread 'MainThread': missing ScriptRunContext! This warning can be ignored when running in bare mode.\n",
            "2025-01-23 18:17:11.248 Thread 'MainThread': missing ScriptRunContext! This warning can be ignored when running in bare mode.\n",
            "2025-01-23 18:17:11.249 Thread 'MainThread': missing ScriptRunContext! This warning can be ignored when running in bare mode.\n"
          ]
        },
        {
          "output_type": "execute_result",
          "data": {
            "text/plain": [
              "DeltaGenerator()"
            ]
          },
          "metadata": {},
          "execution_count": 56
        }
      ]
    },
    {
      "cell_type": "code",
      "source": [
        "!streamlit run weather_dashboard.py"
      ],
      "metadata": {
        "colab": {
          "base_uri": "https://localhost:8080/"
        },
        "id": "kqWJBvWRQwJe",
        "outputId": "ec8b8ec0-0c1c-4129-f933-7679596967c1"
      },
      "execution_count": 60,
      "outputs": [
        {
          "output_type": "stream",
          "name": "stdout",
          "text": [
            "Usage: streamlit run [OPTIONS] TARGET [ARGS]...\n",
            "Try 'streamlit run --help' for help.\n",
            "\n",
            "Error: Invalid value: File does not exist: weather_dashboard.py\n"
          ]
        }
      ]
    }
  ]
}